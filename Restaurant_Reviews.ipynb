{
  "cells": [
    {
      "cell_type": "markdown",
      "metadata": {
        "id": "bqhsqbfqvgDA"
      },
      "source": [
        "# **Restaurant Review Sentiment Analyzer**"
      ]
    },
    {
      "cell_type": "markdown",
      "metadata": {
        "id": "Xm2e0e5NuUKI"
      },
      "source": [
        "# Import Libraries and Load Data"
      ]
    },
    {
      "cell_type": "code",
      "execution_count": 3,
      "metadata": {
        "colab": {
          "base_uri": "https://localhost:8080/"
        },
        "id": "ft9QFxYenSb8",
        "outputId": "761691dc-e9f7-4c7d-9156-f123ebe8e79b"
      },
      "outputs": [
        {
          "ename": "ModuleNotFoundError",
          "evalue": "No module named 'pandas'",
          "output_type": "error",
          "traceback": [
            "\u001b[1;31m---------------------------------------------------------------------------\u001b[0m",
            "\u001b[1;31mModuleNotFoundError\u001b[0m                       Traceback (most recent call last)",
            "Cell \u001b[1;32mIn[3], line 1\u001b[0m\n\u001b[1;32m----> 1\u001b[0m \u001b[38;5;28;01mimport\u001b[39;00m \u001b[38;5;21;01mpandas\u001b[39;00m \u001b[38;5;28;01mas\u001b[39;00m \u001b[38;5;21;01mpd\u001b[39;00m\n\u001b[0;32m      2\u001b[0m \u001b[38;5;28;01mimport\u001b[39;00m \u001b[38;5;21;01mnumpy\u001b[39;00m \u001b[38;5;28;01mas\u001b[39;00m \u001b[38;5;21;01mnp\u001b[39;00m\n\u001b[0;32m      3\u001b[0m \u001b[38;5;28;01mimport\u001b[39;00m \u001b[38;5;21;01mmatplotlib\u001b[39;00m\u001b[38;5;21;01m.\u001b[39;00m\u001b[38;5;21;01mpyplot\u001b[39;00m \u001b[38;5;28;01mas\u001b[39;00m \u001b[38;5;21;01mplt\u001b[39;00m\n",
            "\u001b[1;31mModuleNotFoundError\u001b[0m: No module named 'pandas'"
          ]
        }
      ],
      "source": [
        "import pandas as pd\n",
        "import numpy as np\n",
        "import matplotlib.pyplot as plt\n",
        "from wordcloud import WordCloud\n",
        "import re\n",
        "import nltk\n",
        "from nltk.corpus import stopwords\n",
        "from nltk.stem import WordNetLemmatizer\n",
        "from sklearn.feature_extraction.text import TfidfVectorizer\n",
        "from sklearn.model_selection import train_test_split, GridSearchCV\n",
        "from sklearn.naive_bayes import MultinomialNB\n",
        "from sklearn.metrics import confusion_matrix, accuracy_score, precision_score, recall_score\n",
        "import tensorflow as tf\n",
        "from tensorflow.keras.models import Sequential\n",
        "from tensorflow.keras.layers import Dense, Dropout\n",
        "import torch\n",
        "import torch.nn as nn\n",
        "import torch.optim as optim\n",
        "\n",
        "# Download necessary NLTK data\n",
        "nltk.download('stopwords')\n",
        "nltk.download('wordnet')\n",
        "\n",
        "# Load the dataset\n",
        "dataset = pd.read_csv('Restaurant_Reviews.tsv', delimiter='\\t', quoting=3)"
      ]
    },
    {
      "cell_type": "markdown",
      "metadata": {
        "id": "Ad4T3AC8wbGk"
      },
      "source": [
        "# Preprocess the Data"
      ]
    },
    {
      "cell_type": "code",
      "execution_count": null,
      "metadata": {
        "id": "3w_SP9Uhpsrj"
      },
      "outputs": [],
      "source": [
        "lemmatizer = WordNetLemmatizer()\n",
        "corpus = []\n",
        "for i in range(len(dataset)):\n",
        "    review = re.sub('[^a-zA-Z]', ' ', dataset['Review'][i])\n",
        "    review = review.lower()\n",
        "    review = review.split()\n",
        "    review = [lemmatizer.lemmatize(word) for word in review if not word in set(stopwords.words('english'))]\n",
        "    review = ' '.join(review)\n",
        "    corpus.append(review)\n",
        "\n",
        "# Create the TF-IDF model\n",
        "tfidf = TfidfVectorizer(max_features=1500, ngram_range=(1, 2))\n",
        "X = tfidf.fit_transform(corpus).toarray()\n",
        "y = dataset.iloc[:, 1].values\n",
        "\n",
        "# Split the dataset\n",
        "X_train, X_test, y_train, y_test = train_test_split(X, y, test_size=0.2, random_state=42)"
      ]
    },
    {
      "cell_type": "markdown",
      "metadata": {
        "id": "nZQm6uuqu8UX"
      },
      "source": [
        "# Naive Bayes Model with Hyperparameter Tuning"
      ]
    },
    {
      "cell_type": "code",
      "execution_count": null,
      "metadata": {
        "colab": {
          "base_uri": "https://localhost:8080/"
        },
        "id": "OH92T3Fwpt52",
        "outputId": "bde500b5-bbac-4469-cc99-cd4f5372fb1f"
      },
      "outputs": [
        {
          "name": "stdout",
          "output_type": "stream",
          "text": [
            "Naive Bayes Results:\n",
            "Confusion Matrix:\n",
            " [[77 19]\n",
            " [28 76]]\n",
            "Accuracy: 76.5 %\n",
            "Precision: 0.8\n",
            "Recall: 0.73\n"
          ]
        }
      ],
      "source": [
        "# Hyperparameter tuning for Naive Bayes\n",
        "parameters = {'alpha': [0.1, 0.5, 1.0]}\n",
        "nb_classifier = MultinomialNB()\n",
        "grid_search = GridSearchCV(estimator=nb_classifier, param_grid=parameters, scoring='accuracy', cv=5, n_jobs=-1)\n",
        "grid_search.fit(X_train, y_train)\n",
        "best_nb_classifier = grid_search.best_estimator_\n",
        "\n",
        "y_pred_nb = best_nb_classifier.predict(X_test)\n",
        "\n",
        "print(\"Naive Bayes Results:\")\n",
        "print(\"Confusion Matrix:\\n\", confusion_matrix(y_test, y_pred_nb))\n",
        "print(\"Accuracy:\", round(accuracy_score(y_test, y_pred_nb) * 100, 2), \"%\")\n",
        "print(\"Precision:\", round(precision_score(y_test, y_pred_nb), 2))\n",
        "print(\"Recall:\", round(recall_score(y_test, y_pred_nb), 2))"
      ]
    },
    {
      "cell_type": "markdown",
      "metadata": {
        "id": "XolRnx-ZvAwA"
      },
      "source": [
        "# TensorFlow Deep Learning Model"
      ]
    },
    {
      "cell_type": "code",
      "execution_count": null,
      "metadata": {
        "colab": {
          "base_uri": "https://localhost:8080/"
        },
        "id": "HyzAOR3fpv7W",
        "outputId": "addafa47-3bea-4100-fc30-ac8d9d505a37"
      },
      "outputs": [
        {
          "name": "stderr",
          "output_type": "stream",
          "text": [
            "/usr/local/lib/python3.10/dist-packages/keras/src/layers/core/dense.py:87: UserWarning: Do not pass an `input_shape`/`input_dim` argument to a layer. When using Sequential models, prefer using an `Input(shape)` object as the first layer in the model instead.\n",
            "  super().__init__(activity_regularizer=activity_regularizer, **kwargs)\n"
          ]
        }
      ],
      "source": [
        "model_tf = Sequential([\n",
        "    Dense(16, activation='relu', input_shape=(X_train.shape[1],)),\n",
        "    Dropout(0.2),\n",
        "    Dense(8, activation='relu'),\n",
        "    Dropout(0.2),\n",
        "    Dense(1, activation='sigmoid')\n",
        "])\n",
        "\n",
        "model_tf.compile(optimizer='adam', loss='binary_crossentropy', metrics=['accuracy'])\n",
        "history_tf = model_tf.fit(X_train, y_train, epochs=50, batch_size=32, validation_split=0.2, verbose=0)\n",
        "\n",
        "y_pred_tf = (model_tf.predict(X_test) > 0.5).astype(\"int32\")\n",
        "\n",
        "print(\"\\nTensorFlow Deep Learning Results:\")\n",
        "print(\"Confusion Matrix:\\n\", confusion_matrix(y_test, y_pred_tf))\n",
        "print(\"Accuracy:\", round(accuracy_score(y_test, y_pred_tf) * 100, 2), \"%\")\n",
        "print(\"Precision:\", round(precision_score(y_test, y_pred_tf), 2))\n",
        "print(\"Recall:\", round(recall_score(y_test, y_pred_tf), 2))"
      ]
    },
    {
      "cell_type": "markdown",
      "metadata": {
        "id": "2Tx7dEMVvEVc"
      },
      "source": [
        "# PyTorch Deep Learning Model"
      ]
    },
    {
      "cell_type": "code",
      "execution_count": null,
      "metadata": {
        "id": "S0jPJfwDqtfo"
      },
      "outputs": [],
      "source": [
        "class SentimentNet(nn.Module):\n",
        "    def __init__(self, input_dim):\n",
        "        super(SentimentNet, self).__init__()\n",
        "        self.fc1 = nn.Linear(input_dim, 16)\n",
        "        self.dropout1 = nn.Dropout(0.2)\n",
        "        self.fc2 = nn.Linear(16, 8)\n",
        "        self.dropout2 = nn.Dropout(0.2)\n",
        "        self.fc3 = nn.Linear(8, 1)\n",
        "\n",
        "    def forward(self, x):\n",
        "        x = torch.relu(self.fc1(x))\n",
        "        x = self.dropout1(x)\n",
        "        x = torch.relu(self.fc2(x))\n",
        "        x = self.dropout2(x)\n",
        "        x = torch.sigmoid(self.fc3(x))\n",
        "        return x\n",
        "\n",
        "model_torch = SentimentNet(X_train.shape[1])\n",
        "criterion = nn.BCELoss()\n",
        "optimizer = optim.Adam(model_torch.parameters())\n",
        "\n",
        "X_train_torch = torch.FloatTensor(X_train)\n",
        "y_train_torch = torch.FloatTensor(y_train)\n",
        "\n",
        "for epoch in range(50):\n",
        "    optimizer.zero_grad()\n",
        "    outputs = model_torch(X_train_torch).squeeze()\n",
        "    loss = criterion(outputs, y_train_torch)\n",
        "    loss.backward()\n",
        "    optimizer.step()\n",
        "\n",
        "X_test_torch = torch.FloatTensor(X_test)\n",
        "y_pred_torch = (model_torch(X_test_torch).squeeze() > 0.5).int().numpy()\n",
        "\n",
        "print(\"\\nPyTorch Deep Learning Results:\")\n",
        "print(\"Confusion Matrix:\\n\", confusion_matrix(y_test, y_pred_torch))\n",
        "print(\"Accuracy:\", round(accuracy_score(y_test, y_pred_torch) * 100, 2), \"%\")\n",
        "print(\"Precision:\", round(precision_score(y_test, y_pred_torch), 2))\n",
        "print(\"Recall:\", round(recall_score(y_test, y_pred_torch), 2))"
      ]
    },
    {
      "cell_type": "markdown",
      "metadata": {
        "id": "xEu_-KuKvIKe"
      },
      "source": [
        "# Visualize Positive and Negative Reviews"
      ]
    },
    {
      "cell_type": "code",
      "execution_count": null,
      "metadata": {
        "id": "kkjH0Qdap2H2"
      },
      "outputs": [],
      "source": [
        "# Visualize the number of positive and negative reviews\n",
        "positive_reviews = sum(y)\n",
        "negative_reviews = len(y) - positive_reviews\n",
        "\n",
        "plt.figure(figsize=(8, 6))\n",
        "plt.bar(['Positive Reviews', 'Negative Reviews'], [positive_reviews, negative_reviews], color=['green', 'red'])\n",
        "plt.title('Number of Positive and Negative Reviews')\n",
        "plt.xlabel('Review Type')\n",
        "plt.ylabel('Count')\n",
        "plt.show()"
      ]
    },
    {
      "cell_type": "markdown",
      "metadata": {
        "id": "xDhT52hNvLZ6"
      },
      "source": [
        "# Word Cloud for Positive Reviews"
      ]
    },
    {
      "cell_type": "code",
      "execution_count": null,
      "metadata": {
        "id": "-ILCXrqvp5R6"
      },
      "outputs": [],
      "source": [
        "positive_corpus = ' '.join([corpus[i] for i in range(len(corpus)) if y[i] == 1])\n",
        "\n",
        "wordcloud_positive = WordCloud(width=800, height=400, background_color='white').generate(positive_corpus)\n",
        "\n",
        "plt.figure(figsize=(16, 8))\n",
        "plt.subplot(1, 2, 1)\n",
        "plt.imshow(wordcloud_positive, interpolation='bilinear')\n",
        "plt.title('Word Cloud for Positive Reviews')\n",
        "plt.axis('off')\n",
        "\n",
        "plt.show()"
      ]
    },
    {
      "cell_type": "markdown",
      "metadata": {
        "id": "8depyBinvRc9"
      },
      "source": [
        "# Word Cloud for Negative Reviews"
      ]
    },
    {
      "cell_type": "code",
      "execution_count": null,
      "metadata": {
        "id": "F993YEwas0Oh"
      },
      "outputs": [],
      "source": [
        "negative_corpus = ' '.join([corpus[i] for i in range(len(corpus)) if y[i] == 0])\n",
        "\n",
        "wordcloud_negative = WordCloud(width=800, height=400, background_color='black').generate(negative_corpus)\n",
        "\n",
        "plt.figure(figsize=(16, 8))\n",
        "plt.subplot(1, 2, 2)\n",
        "plt.imshow(wordcloud_negative, interpolation='bilinear')\n",
        "plt.title('Word Cloud for Negative Reviews')\n",
        "plt.axis('off')\n",
        "\n",
        "plt.show()"
      ]
    },
    {
      "cell_type": "markdown",
      "metadata": {
        "id": "GJpwOR8kvamX"
      },
      "source": [
        "# Model Comparison Visualization"
      ]
    },
    {
      "cell_type": "code",
      "execution_count": null,
      "metadata": {
        "id": "5QSk6O2ysfoh"
      },
      "outputs": [],
      "source": [
        "models = ['Naive Bayes', 'TensorFlow DL', 'PyTorch DL']\n",
        "accuracies = [\n",
        "    accuracy_score(y_test, y_pred_nb),\n",
        "    accuracy_score(y_test, y_pred_tf),\n",
        "    accuracy_score(y_test, y_pred_torch)\n",
        "]\n",
        "\n",
        "plt.figure(figsize=(10, 6))\n",
        "plt.bar(models, accuracies, color=['blue', 'green', 'red'])\n",
        "plt.title('Model Comparison - Accuracy')\n",
        "plt.xlabel('Models')\n",
        "plt.ylabel('Accuracy')\n",
        "plt.ylim(0, 1)\n",
        "for i, v in enumerate(accuracies):\n",
        "    plt.text(i, v, f'{v:.2f}', ha='center', va='bottom')\n",
        "plt.show()"
      ]
    }
  ],
  "metadata": {
    "colab": {
      "collapsed_sections": [
        "nZQm6uuqu8UX",
        "XolRnx-ZvAwA",
        "2Tx7dEMVvEVc",
        "xEu_-KuKvIKe",
        "xDhT52hNvLZ6",
        "8depyBinvRc9",
        "GJpwOR8kvamX"
      ],
      "provenance": []
    },
    "kernelspec": {
      "display_name": "Python 3",
      "name": "python3"
    },
    "language_info": {
      "codemirror_mode": {
        "name": "ipython",
        "version": 3
      },
      "file_extension": ".py",
      "mimetype": "text/x-python",
      "name": "python",
      "nbconvert_exporter": "python",
      "pygments_lexer": "ipython3",
      "version": "3.12.4"
    }
  },
  "nbformat": 4,
  "nbformat_minor": 0
}
